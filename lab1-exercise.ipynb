{
 "cells": [
  {
   "cell_type": "markdown",
   "id": "6d10cff6",
   "metadata": {},
   "source": [
    "# **Exercise: Basics of Python and Numpy**"
   ]
  },
  {
   "cell_type": "markdown",
   "id": "337ef4b9",
   "metadata": {},
   "source": [
    "1. Import numpy and print the numpy version. (Hint: use ```__version___``` attribute to check package version.)"
   ]
  },
  {
   "cell_type": "code",
   "execution_count": null,
   "id": "453728b7",
   "metadata": {},
   "outputs": [],
   "source": [
    "\"\"\" YOUR CODE HERE \"\"\""
   ]
  },
  {
   "cell_type": "markdown",
   "id": "d8a080c7",
   "metadata": {},
   "source": [
    "2. Create a 4 x 5 matrix filled with random values. Name it as ```x```."
   ]
  },
  {
   "cell_type": "code",
   "execution_count": null,
   "id": "1bd0c3ca",
   "metadata": {},
   "outputs": [],
   "source": [
    "\"\"\" YOUR CODE HERE \"\"\""
   ]
  },
  {
   "cell_type": "markdown",
   "id": "6341b099",
   "metadata": {},
   "source": [
    "3. Create a 3 x 3 matrix filled with [[1, 2, 3], [4, 5, 6], [7, 8, 9]]. Name it as ```y```."
   ]
  },
  {
   "cell_type": "code",
   "execution_count": null,
   "id": "c9f48e33",
   "metadata": {},
   "outputs": [],
   "source": [
    "\"\"\" YOUR CODE HERE \"\"\""
   ]
  },
  {
   "cell_type": "markdown",
   "id": "48dfad75",
   "metadata": {},
   "source": [
    "4. Swap the first two rows of ```x```."
   ]
  },
  {
   "cell_type": "code",
   "execution_count": null,
   "id": "d48b2650",
   "metadata": {},
   "outputs": [],
   "source": [
    "\"\"\" YOUR CODE HERE \"\"\""
   ]
  },
  {
   "cell_type": "markdown",
   "id": "51688b02",
   "metadata": {},
   "source": [
    "5. Create a random numpy array with shape (100, 2) and name it ```z```. Each row indicates the coordinates of a point. Compute point by point distances."
   ]
  },
  {
   "cell_type": "code",
   "execution_count": null,
   "id": "6b85c6c9",
   "metadata": {},
   "outputs": [],
   "source": [
    "\"\"\" YOUR CODE HERE \"\"\""
   ]
  },
  {
   "cell_type": "markdown",
   "id": "f650d9a1",
   "metadata": {},
   "source": [
    "6. Subtract the mean of each row of ```y```."
   ]
  },
  {
   "cell_type": "code",
   "execution_count": null,
   "id": "6cd7909c",
   "metadata": {},
   "outputs": [],
   "source": [
    "\"\"\" YOUR CODE HERE \"\"\""
   ]
  },
  {
   "cell_type": "markdown",
   "id": "d9d6942d",
   "metadata": {},
   "source": [
    "7. Add a vector [1, 0, 1] to each row of ```y``` using broadcasting and name the resulting numpy array as ```yy```."
   ]
  },
  {
   "cell_type": "code",
   "execution_count": null,
   "id": "900a59eb",
   "metadata": {},
   "outputs": [],
   "source": [
    "\"\"\" YOUR CODE HERE \"\"\""
   ]
  },
  {
   "cell_type": "markdown",
   "id": "e10a4e69",
   "metadata": {},
   "source": [
    "8. For each row in ```yy```, extract the value that are not equal to the other two values. Organize these values as a numpy array."
   ]
  },
  {
   "cell_type": "code",
   "execution_count": null,
   "id": "d2bc9d10",
   "metadata": {},
   "outputs": [],
   "source": [
    "\"\"\" YOUR CODE HERE \"\"\""
   ]
  }
 ],
 "metadata": {
  "kernelspec": {
   "display_name": "base",
   "language": "python",
   "name": "python3"
  },
  "language_info": {
   "codemirror_mode": {
    "name": "ipython",
    "version": 3
   },
   "file_extension": ".py",
   "mimetype": "text/x-python",
   "name": "python",
   "nbconvert_exporter": "python",
   "pygments_lexer": "ipython3",
   "version": "3.11.9"
  }
 },
 "nbformat": 4,
 "nbformat_minor": 5
}
